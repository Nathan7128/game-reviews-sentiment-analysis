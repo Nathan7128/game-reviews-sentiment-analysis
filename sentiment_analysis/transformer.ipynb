{
 "cells": [
  {
   "cell_type": "markdown",
   "metadata": {},
   "source": [
    "The goal of our deep learning model, a Transformer, is to analyze game reviews and classify the sentiments associated with these reviews.  \n",
    "To train our model, we will use the \"Steam Reviews\" dataset, available at: https://www.kaggle.com/datasets/andrewmvd/steam-reviews.  \n",
    "This dataset includes, among other features, 6.4 million English reviews from the Steam platform.  \n",
    "Each review in the dataset is labeled with its sentiment: 1 for positive and -1 for negative.  \n",
    "The objective of our model is to take a game review as input and predict whether the sentiment is positive or negative.  \n",
    "To implement the model, we will use the Keras API provided by TensorFlow."
   ]
  },
  {
   "cell_type": "markdown",
   "metadata": {},
   "source": [
    "# 1/ Data preprocessing"
   ]
  },
  {
   "cell_type": "markdown",
   "metadata": {},
   "source": [
    "Before implementing the Transformer and training it with our data, it is necessary to :  \n",
    "- Load the dataset (store in .csv format in the \"datasets\" folder)\n",
    "- Seperate this dataset in train data, validation data and test data\n",
    "- Transform these initial text data into token sequences\n",
    "- Pad these sequences to ensure they have the same length"
   ]
  },
  {
   "cell_type": "markdown",
   "metadata": {},
   "source": [
    "## Importing libraries"
   ]
  },
  {
   "cell_type": "code",
   "execution_count": 1,
   "metadata": {},
   "outputs": [],
   "source": [
    "import pandas as pd\n",
    "import numpy as np\n",
    "from tensorflow.keras.preprocessing.text import Tokenizer\n",
    "from tensorflow.keras.preprocessing.sequence import pad_sequences\n",
    "import random\n",
    "from sklearn.model_selection import train_test_split"
   ]
  },
  {
   "cell_type": "markdown",
   "metadata": {},
   "source": [
    "## Dataset importing and processing"
   ]
  },
  {
   "cell_type": "code",
   "execution_count": 2,
   "metadata": {},
   "outputs": [],
   "source": [
    "# Loading the dataset\n",
    "dataset = pd.read_csv(\"datasets/dataset.csv\")"
   ]
  },
  {
   "cell_type": "code",
   "execution_count": 3,
   "metadata": {},
   "outputs": [
    {
     "name": "stdout",
     "output_type": "stream",
     "text": [
      "   app_id        app_name                                        review_text  \\\n",
      "0      10  Counter-Strike                                    Ruined my life.   \n",
      "1      10  Counter-Strike  This will be more of a ''my experience with th...   \n",
      "2      10  Counter-Strike                      This game saved my virginity.   \n",
      "3      10  Counter-Strike  • Do you like original games? • Do you like ga...   \n",
      "4      10  Counter-Strike           Easy to learn, hard to master.             \n",
      "\n",
      "   review_score  review_votes  \n",
      "0             1             0  \n",
      "1             1             1  \n",
      "2             1             0  \n",
      "3             1             0  \n",
      "4             1             1  \n"
     ]
    }
   ],
   "source": [
    "# Data overview\n",
    "print(dataset.head())"
   ]
  },
  {
   "cell_type": "code",
   "execution_count": 4,
   "metadata": {},
   "outputs": [
    {
     "name": "stdout",
     "output_type": "stream",
     "text": [
      "Number of reviews : 6417106\n"
     ]
    }
   ],
   "source": [
    "print(\"Number of reviews :\", len(dataset))"
   ]
  },
  {
   "cell_type": "markdown",
   "metadata": {},
   "source": [
    "As this dataset includes 6.4 million reviews, this number is too high, so it is necessary to keep only a portion of these reviews by selecting them randomly."
   ]
  },
  {
   "cell_type": "code",
   "execution_count": 5,
   "metadata": {},
   "outputs": [],
   "source": [
    "# Choice of the sample size\n",
    "sample_size = 100000\n",
    "\n",
    "# Randomly select review indices\n",
    "index_reviews_kept = random.sample(range(len(dataset)), sample_size)"
   ]
  },
  {
   "cell_type": "markdown",
   "metadata": {},
   "source": [
    "Then, we will keep the data that interest us: review content ('review_text') and their associated sentiment ('review_score')."
   ]
  },
  {
   "cell_type": "code",
   "execution_count": 6,
   "metadata": {},
   "outputs": [],
   "source": [
    "# Extracting data by converting it into a numpy array and setting the review format to string\n",
    "X = np.array(dataset.iloc[index_reviews_kept].review_text, dtype = \"str\")\n",
    "y = np.array(dataset.iloc[index_reviews_kept].review_score)"
   ]
  },
  {
   "cell_type": "code",
   "execution_count": 7,
   "metadata": {},
   "outputs": [
    {
     "name": "stdout",
     "output_type": "stream",
     "text": [
      "1 Good enough until science lets me literally become a goat\n",
      "1 show no mercy\n",
      "-1 This was the first fail of the ubisoft in the AC series. As a big fan of the Assassin's Creed series , I must say I'm really disappointed. You can play it trough once , but it's not as great experience like the other parts(except unity).\n"
     ]
    }
   ],
   "source": [
    "for i in range(3) :\n",
    "    print(y[i], X[i])"
   ]
  },
  {
   "cell_type": "code",
   "execution_count": 8,
   "metadata": {},
   "outputs": [],
   "source": [
    "# Set the sentiment value for negative sentiment to 0\n",
    "y[y == -1] = 0"
   ]
  },
  {
   "cell_type": "markdown",
   "metadata": {},
   "source": [
    "Moreover, we will split the data into training, validation, and test sets to train the transformer model.  \n",
    "The training set will contain 60% of the initial data, while the validation and test sets will each contain 20% of the initial data."
   ]
  },
  {
   "cell_type": "code",
   "execution_count": 9,
   "metadata": {},
   "outputs": [],
   "source": [
    "# Split the data using the train_test_split function from scikit-learn\n",
    "X_train, X_test_full, y_train, y_test_full = train_test_split(X, y, train_size = 0.6, random_state = 42)"
   ]
  },
  {
   "cell_type": "code",
   "execution_count": 10,
   "metadata": {},
   "outputs": [],
   "source": [
    "X_val, y_val = X_test_full[:int(len(X_test_full)/2)], y_test_full[:int(len(X_test_full)/2)]\n",
    "X_test, y_test = X_test_full[int(len(X_test_full)/2):], y_test_full[int(len(X_test_full)/2):]"
   ]
  },
  {
   "cell_type": "code",
   "execution_count": 11,
   "metadata": {},
   "outputs": [
    {
     "name": "stdout",
     "output_type": "stream",
     "text": [
      "(60000,) (20000,) (20000,)\n",
      "(60000,) (20000,) (20000,)\n"
     ]
    }
   ],
   "source": [
    "print(X_train.shape, X_val.shape, X_test.shape)\n",
    "print(y_train.shape, y_val.shape, y_test.shape)"
   ]
  },
  {
   "cell_type": "markdown",
   "metadata": {},
   "source": [
    "## Tokenisation of text data"
   ]
  },
  {
   "cell_type": "markdown",
   "metadata": {},
   "source": [
    "This step consists of transforming the review's words into tokens in order to make this data readable by the AI model."
   ]
  },
  {
   "cell_type": "code",
   "execution_count": 12,
   "metadata": {},
   "outputs": [],
   "source": [
    "# Maximum number of words for the token dictionary\n",
    "num_words = 4000\n",
    "\n",
    "# Instantiate the Tokeniser and fit it on the training data\n",
    "tokenizer = Tokenizer(num_words = num_words, oov_token = \"UNK\")\n",
    "tokenizer.fit_on_texts(X_train)"
   ]
  },
  {
   "cell_type": "code",
   "execution_count": 13,
   "metadata": {},
   "outputs": [
    {
     "name": "stdout",
     "output_type": "stream",
     "text": [
      "Number of different words in the data : 65849\n"
     ]
    }
   ],
   "source": [
    "print(\"Number of different words in the data : %d\" % len(tokenizer.word_docs))"
   ]
  },
  {
   "cell_type": "code",
   "execution_count": 14,
   "metadata": {},
   "outputs": [
    {
     "name": "stdout",
     "output_type": "stream",
     "text": [
      "Maximum number of occurrences for OOV words : 49\n"
     ]
    }
   ],
   "source": [
    "max_occurences_oov_words = tokenizer.word_counts[tokenizer.index_word[num_words]]\n",
    "print(\"Maximum number of occurrences for OOV words :\" , max_occurences_oov_words)"
   ]
  },
  {
   "cell_type": "markdown",
   "metadata": {},
   "source": [
    "Convert sentences composed of words into sequences of tokens."
   ]
  },
  {
   "cell_type": "code",
   "execution_count": 15,
   "metadata": {},
   "outputs": [],
   "source": [
    "X_train_sequences = tokenizer.texts_to_sequences(X_train)\n",
    "X_val_sequences = tokenizer.texts_to_sequences(X_val)\n",
    "X_test_sequences = tokenizer.texts_to_sequences(X_test)"
   ]
  },
  {
   "cell_type": "code",
   "execution_count": 16,
   "metadata": {},
   "outputs": [
    {
     "name": "stdout",
     "output_type": "stream",
     "text": [
      "[[1, 1819, 115, 11, 334, 153, 3, 62, 4, 1936, 8, 4, 107, 315, 313, 81, 589, 2268, 49, 658, 172, 509, 882, 22, 4, 1832, 74, 2, 2397, 78, 348, 400, 29, 21, 1, 22, 39, 1642, 58, 51, 286, 16, 58, 51, 261, 48, 19, 45, 136, 776, 3177, 14, 19, 1, 198, 33, 642, 190, 13, 2, 674, 2, 747, 15, 1807, 474, 17, 1044, 2330, 35, 562, 9, 71, 3757, 73, 9, 4, 408, 947, 193, 187, 161, 46, 634, 8, 2, 589, 658, 49, 4, 1, 229, 9, 279, 788, 2, 185, 181, 73, 9, 39, 8, 32, 1006, 133, 70, 2, 236, 9, 83, 1, 3757, 1, 31, 582, 3, 1773, 33, 2, 604, 1207, 3, 1662, 17, 2, 556, 8, 582, 3, 4, 166, 2496, 48, 9, 63, 318, 5, 506, 4, 185, 3, 59, 1066, 520, 2, 157, 824, 3630, 1, 42, 317, 275, 11, 9, 45, 113, 15, 463, 3, 2, 642, 27, 25, 40, 33, 77, 114, 13, 1112, 250, 24, 2, 589, 658, 49], [63, 7, 54, 21, 105, 12, 6, 7, 120, 829, 2, 413, 301, 56, 11, 7, 118, 11, 15, 1, 3, 58, 21, 106, 14, 2, 2090, 9, 1, 130, 7, 66, 20, 11, 18, 317, 1, 3, 11, 334, 1, 130, 10, 145, 4, 3315, 16, 7, 67, 280, 87, 1, 1, 11, 963, 57, 79, 7, 404, 134, 1, 2, 1088, 421, 355, 1194, 5, 37, 1025, 10, 242, 147, 1, 18, 69, 9, 1, 13, 6, 35, 207, 10, 178, 1025, 12, 1, 2, 1789, 1631, 53, 12, 242, 79, 68, 10, 13, 6, 10, 1, 61, 11, 355, 279, 143, 1937, 5, 65, 79, 10, 905, 148, 3, 601, 11, 1, 9, 53, 1417, 1, 3, 1, 3, 601, 31, 1, 1, 5, 25, 1, 70, 79, 11, 242, 160, 63, 1, 18, 1, 10, 114, 16, 11, 1, 283, 14, 10, 27, 65, 13, 6, 24, 7, 852, 12, 9, 4, 1623, 1, 8, 4, 6, 242, 37, 11], [4, 36, 6, 5, 34, 1, 23, 11, 132, 25, 1, 15, 1785]]\n"
     ]
    }
   ],
   "source": [
    "print(X_train_sequences[:3])"
   ]
  },
  {
   "cell_type": "markdown",
   "metadata": {},
   "source": [
    "## Padding the sequences"
   ]
  },
  {
   "cell_type": "markdown",
   "metadata": {},
   "source": [
    "Next, it is necessary to pad these sequences : since they don't have all the same lengths (the sentences don't all contain the same number of words), they can't be used by the model.  \n",
    "We will pad these sequences by truncading those that exceed a predifined maximum length (= \"maxlen\"), and filling the shorter sequences with zeros until they reach maxlen."
   ]
  },
  {
   "cell_type": "markdown",
   "metadata": {},
   "source": [
    "To choose a coherent maximum sequence length, we will analyze the length of our sequence using Pandas Series."
   ]
  },
  {
   "cell_type": "code",
   "execution_count": 61,
   "metadata": {},
   "outputs": [
    {
     "name": "stdout",
     "output_type": "stream",
     "text": [
      "Length of the first 3 sequences:\n",
      "0    175\n",
      "1    164\n",
      "2     13\n",
      "dtype: int64\n"
     ]
    }
   ],
   "source": [
    "# Create a Pandas Series that contains the sequence lengths as values\n",
    "sequence_lengths = pd.Series([len(review) for review in X_train_sequences])\n",
    "print(\"Length of the first 3 sequences:\", sequence_lengths.head(3), sep = \"\\n\")"
   ]
  },
  {
   "cell_type": "code",
   "execution_count": null,
   "metadata": {},
   "outputs": [
    {
     "name": "stdout",
     "output_type": "stream",
     "text": [
      "count    60000.000000\n",
      "mean        55.524200\n",
      "std        107.231418\n",
      "min          0.000000\n",
      "25%          6.000000\n",
      "50%         20.000000\n",
      "75%         57.000000\n",
      "max       1545.000000\n",
      "dtype: float64\n"
     ]
    }
   ],
   "source": [
    "# Statistical description of sequence lengths\n",
    "print(sequence_lengths.describe())"
   ]
  },
  {
   "cell_type": "code",
   "execution_count": null,
   "metadata": {},
   "outputs": [
    {
     "name": "stdout",
     "output_type": "stream",
     "text": [
      "383.0\n"
     ]
    }
   ],
   "source": [
    "print(sequence_lengths.quantile(q = 0.98))"
   ]
  },
  {
   "cell_type": "code",
   "execution_count": 62,
   "metadata": {},
   "outputs": [
    {
     "name": "stdout",
     "output_type": "stream",
     "text": [
      "Histogram of sequence lengths :\n"
     ]
    },
    {
     "data": {
      "text/plain": [
       "<Axes: >"
      ]
     },
     "execution_count": 62,
     "metadata": {},
     "output_type": "execute_result"
    },
    {
     "data": {
      "image/png": "[encoded data removed]",
      "text/plain": [
       "<Figure size 640x480 with 1 Axes>"
      ]
     },
     "metadata": {},
     "output_type": "display_data"
    }
   ],
   "source": [
    "print(\"Histogram of sequence lengths :\")\n",
    "sequence_lengths.hist(range = (0, 500))"
   ]
  },
  {
   "cell_type": "markdown",
   "metadata": {},
   "source": [
    "We see that if we choose to keep the first 400 elements of all sequences, we will retain the full content of more than 98% of them, which seems to be reasonable.  \n",
    "So now, we will pad these sequences by setting the \"maxlen\" parameter to 400."
   ]
  },
  {
   "cell_type": "code",
   "execution_count": 46,
   "metadata": {},
   "outputs": [],
   "source": [
    "maxlen = 400\n",
    "X_train_padded = pad_sequences(X_train_sequences, maxlen = maxlen)\n",
    "X_val_padded = pad_sequences(X_val_sequences, maxlen = maxlen)\n",
    "X_test_padded = pad_sequences(X_test_sequences, maxlen = maxlen)"
   ]
  },
  {
   "cell_type": "code",
   "execution_count": 54,
   "metadata": {},
   "outputs": [
    {
     "name": "stdout",
     "output_type": "stream",
     "text": [
      "Class of X_train_sequences : <class 'list'>\n",
      "Class of X_train_padded <class 'numpy.ndarray'>\n",
      "Dimension of X_train_padded : (60000, 400)\n"
     ]
    }
   ],
   "source": [
    "print(\"Class of X_train_sequences :\", type(X_train_sequences))\n",
    "print(\"Class of X_train_padded\", type(X_train_padded))\n",
    "print(\"Dimension of X_train_padded :\", np.shape(X_train_padded))"
   ]
  },
  {
   "cell_type": "markdown",
   "metadata": {},
   "source": [
    "We can see that our data is now contained in Numpy arrays, where each row of these arrays corresponds to a token sequence, while each column corresponds to a token.  \n",
    "As a result, we have a trainable dataset for the AI model."
   ]
  }
 ],
 "metadata": {
  "kernelspec": {
   "display_name": "env",
   "language": "python",
   "name": "python3"
  },
  "language_info": {
   "codemirror_mode": {
    "name": "ipython",
    "version": 3
   },
   "file_extension": ".py",
   "mimetype": "text/x-python",
   "name": "python",
   "nbconvert_exporter": "python",
   "pygments_lexer": "ipython3",
   "version": "3.12.6"
  }
 },
 "nbformat": 4,
 "nbformat_minor": 2
}
