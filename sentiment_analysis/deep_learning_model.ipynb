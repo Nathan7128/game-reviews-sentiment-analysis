{
 "cells": [
  {
   "cell_type": "code",
   "execution_count": 41,
   "metadata": {},
   "outputs": [],
   "source": [
    "import pandas as pd\n",
    "import numpy as np\n",
    "from tensorflow.keras.preprocessing.text import Tokenizer\n",
    "from tensorflow.keras.preprocessing.sequence import pad_sequences\n",
    "import random\n",
    "from sklearn.model_selection import train_test_split"
   ]
  },
  {
   "cell_type": "code",
   "execution_count": 28,
   "metadata": {},
   "outputs": [],
   "source": [
    "dataset = pd.read_csv(\"datasets/dataset.csv\")"
   ]
  },
  {
   "cell_type": "code",
   "execution_count": 29,
   "metadata": {},
   "outputs": [],
   "source": [
    "vecteur = random.sample(range(len(dataset)), 50000)"
   ]
  },
  {
   "cell_type": "code",
   "execution_count": 36,
   "metadata": {},
   "outputs": [],
   "source": [
    "X = np.array(dataset.iloc[vecteur].review_text, dtype = \"str\")\n",
    "y = dataset.iloc[vecteur].review_score"
   ]
  },
  {
   "cell_type": "code",
   "execution_count": 60,
   "metadata": {},
   "outputs": [
    {
     "name": "stderr",
     "output_type": "stream",
     "text": [
      "C:\\Users\\natha\\AppData\\Local\\Temp\\ipykernel_2908\\3153561895.py:1: SettingWithCopyWarning: \n",
      "A value is trying to be set on a copy of a slice from a DataFrame\n",
      "\n",
      "See the caveats in the documentation: https://pandas.pydata.org/pandas-docs/stable/user_guide/indexing.html#returning-a-view-versus-a-copy\n",
      "  y[y == -1] = 0\n"
     ]
    }
   ],
   "source": [
    "y[y == -1] = 0"
   ]
  },
  {
   "cell_type": "code",
   "execution_count": 38,
   "metadata": {},
   "outputs": [
    {
     "data": {
      "text/plain": [
       "array(['Addicting', ' Early Access Review',\n",
       "       'Kids version of Grand Theft Auto        10/10 Hasbro Preschool',\n",
       "       \"After Assassin's Creed 3 i was really skeptical about buying this one, but im sure as hell glad i did. Ive yet to complete the game, but from what ive completed so far i can say that the gameplay is the usually, fights are the same, scaling buildings is about the same speed as Assassin's Creed 3, the ship battles are better, and its all about pirates! also the world itself seems HUGE compared to other Assassin's Creed games because of the addition of islands and sea adventures. Another note is that Assassin's Creeed 4 manages to bring back the mystery that the previous installments of the AC series of seemed to lack. Just like AC 2 (the best one IMO) the game sets you up with a sleuth of information waiting to be found and decoded through video and recorded messages left over from desmond and research teams of abstergo.\",\n",
       "       'the way of ...........................',\n",
       "       \"I don't wanna play this game, but I cannot turn away. I am going insane...  This is the game that didn't necessarily scare me, but the atmosphere had detrimental effects upon my mind. Example Being super tense all the time, and nearly beating the ♥♥♥♥ out of a guy who just jumped around a corner to scare me. Conclusion. THIS IS HOW HORROR GAMES ARE MEANT TO BE.  10/10 Arguably one of the best horror games of this decade. \",\n",
       "       'Not bad besides the hackers that killed the game.',\n",
       "       'this game is really good. it can run on almost any icore and windows. also really addictive and fun',\n",
       "       \"So, my review is that this game is not recommended. I'll say now, that some people may enjoy it, but personally I didn't. It's a time-sink, but not a particularly fun one. I'll begin with the pros.  Pros: Good tech tree. It's interesting, useful, and well-made. It goes quickly, while still lasting quite a while.  Customization. You can build ships, create custom races, all of that. I spent most of my time simply re-inacting my books, and seeing how different races of mine would react to those of other universes.  Battle screen. If you have two fleets that are in battle, you get a more detailed video of the battle. Though not particularly useful itself, it is enjoyable to watch.   Now, for the cons. These are the reasons why I wouldn't recommend this to most people.  Cons: Slow start. The beginning feels boring and long-running. Every game begins the same: You have your system, you colonize the one other habitable planet, then you move to the next. And even once you meet another race, you don't have diplomatic incidents to worry about. The worst you could do is sell something important to them by accident. Until you go to war, it's a very tedious and repetetive task.  Tactics are useless. Aside from wanting to attack THIS planet instead of THAT one, you don't really need to use tactics. If your ships are strong enough, you just win.  Lack of diplomacy. You can't use diplomacy at all. You can pay other races to ally with you, or to declare war on somebody, but that's it.   Finally, the game just doesn't fit the role I expected from it. Instead, I got a time sink that I probably won't play for months on end. If you want something that will bring tactics into the game, I'd recommend Sins of a Solar Empire: Rebellion. For those who enjoy a more basic game when it comes to fleet tactics and diplomacy, you may enjoy this. It has it's ups.\",\n",
       "       ' Early Access Review'], dtype='<U8000')"
      ]
     },
     "execution_count": 38,
     "metadata": {},
     "output_type": "execute_result"
    }
   ],
   "source": [
    "X[:10]"
   ]
  },
  {
   "cell_type": "code",
   "execution_count": 61,
   "metadata": {},
   "outputs": [
    {
     "data": {
      "text/plain": [
       "4157243    1\n",
       "4042243    1\n",
       "4008485    1\n",
       "2322371    1\n",
       "1828782    1\n",
       "6093342    1\n",
       "20108      1\n",
       "1951111    1\n",
       "507883     0\n",
       "2700364    1\n",
       "Name: review_score, dtype: int64"
      ]
     },
     "execution_count": 61,
     "metadata": {},
     "output_type": "execute_result"
    }
   ],
   "source": [
    "y.head(10)"
   ]
  },
  {
   "cell_type": "code",
   "execution_count": 62,
   "metadata": {},
   "outputs": [],
   "source": [
    "X_train, X_test_full, y_train, y_test_full = train_test_split(X, y, train_size = 0.6, random_state = 42)"
   ]
  },
  {
   "cell_type": "code",
   "execution_count": 63,
   "metadata": {},
   "outputs": [],
   "source": [
    "X_val, y_val = X_test_full[:int(len(X_test_full)/2)], y_test_full[:int(len(X_test_full)/2)]\n",
    "X_test, y_test = X_test_full[int(len(X_test_full)/2):], y_test_full[int(len(X_test_full)/2):]"
   ]
  },
  {
   "cell_type": "code",
   "execution_count": 64,
   "metadata": {},
   "outputs": [
    {
     "name": "stdout",
     "output_type": "stream",
     "text": [
      "(30000,) (10000,) (10000,)\n",
      "(30000,) (10000,) (10000,)\n"
     ]
    }
   ],
   "source": [
    "print(X_train.shape, X_val.shape, X_test.shape)\n",
    "print(y_train.shape, y_val.shape, y_test.shape)"
   ]
  },
  {
   "cell_type": "code",
   "execution_count": 65,
   "metadata": {},
   "outputs": [],
   "source": [
    "tokenizer = Tokenizer(num_words = 4000, oov_token = \"UNKNOWN\")\n",
    "tokenizer.fit_on_texts(X_train)"
   ]
  },
  {
   "cell_type": "code",
   "execution_count": 66,
   "metadata": {},
   "outputs": [],
   "source": [
    "X_train_sequences = tokenizer.texts_to_sequences(X_train)\n",
    "X_val_sequences = tokenizer.texts_to_sequences(X_val)\n",
    "X_test_sequences = tokenizer.texts_to_sequences(X_test)"
   ]
  },
  {
   "cell_type": "code",
   "execution_count": 67,
   "metadata": {},
   "outputs": [
    {
     "data": {
      "text/plain": [
       "(array([21569.,  3880.,  1778.,   938.,   507.,   373.,   258.,   152.,\n",
       "          123.,    79.]),\n",
       " array([  0.,  50., 100., 150., 200., 250., 300., 350., 400., 450., 500.]),\n",
       " <BarContainer object of 10 artists>)"
      ]
     },
     "execution_count": 67,
     "metadata": {},
     "output_type": "execute_result"
    },
    {
     "data": {
      "image/png": "[encoded data removed]",
      "text/plain": [
       "<Figure size 640x480 with 1 Axes>"
      ]
     },
     "metadata": {},
     "output_type": "display_data"
    }
   ],
   "source": [
    "import matplotlib.pyplot as plt\n",
    "plt.hist([len(x) for x in X_train_sequences], bins = 10, range = [0, 500])"
   ]
  },
  {
   "cell_type": "code",
   "execution_count": 54,
   "metadata": {},
   "outputs": [],
   "source": [
    "X_train_padded = pad_sequences(X_train_sequences, maxlen = 400)\n",
    "X_val_padded = pad_sequences(X_val_sequences, maxlen = 400)\n",
    "X_test_padded = pad_sequences(X_test_sequences, maxlen = 400)"
   ]
  },
  {
   "cell_type": "code",
   "execution_count": 56,
   "metadata": {},
   "outputs": [
    {
     "name": "stdout",
     "output_type": "stream",
     "text": [
      "(30000, 400) (10000, 400) (10000, 400)\n"
     ]
    }
   ],
   "source": [
    "print(X_train_padded.shape, X_val_padded.shape, X_test_padded.shape)"
   ]
  },
  {
   "cell_type": "code",
   "execution_count": 57,
   "metadata": {},
   "outputs": [],
   "source": [
    "from keras.layers import Input, Embedding, MultiHeadAttention, LayerNormalization, Dense, Flatten\n",
    "from keras.models import Model\n",
    "from keras.utils import plot_model\n",
    "from keras.optimizers import Adam\n",
    "from keras.losses import BinaryCrossentropy\n",
    "from keras.metrics import BinaryAccuracy"
   ]
  },
  {
   "cell_type": "code",
   "execution_count": 68,
   "metadata": {},
   "outputs": [
    {
     "name": "stdout",
     "output_type": "stream",
     "text": [
      "Epoch 1/5\n"
     ]
    },
    {
     "name": "stderr",
     "output_type": "stream",
     "text": [
      "c:\\Users\\natha\\Documents\\Programmation\\Git\\game-reviews-sentiment-analysis\\env\\Lib\\site-packages\\keras\\src\\layers\\core\\embedding.py:90: UserWarning: Argument `input_length` is deprecated. Just remove it.\n",
      "  warnings.warn(\n"
     ]
    },
    {
     "name": "stdout",
     "output_type": "stream",
     "text": [
      "\u001b[1m938/938\u001b[0m \u001b[32m━━━━━━━━━━━━━━━━━━━━\u001b[0m\u001b[37m\u001b[0m \u001b[1m82s\u001b[0m 86ms/step - binary_accuracy: 0.7882 - loss: 0.6724 - val_binary_accuracy: 0.8475 - val_loss: 0.3605\n",
      "Epoch 2/5\n",
      "\u001b[1m938/938\u001b[0m \u001b[32m━━━━━━━━━━━━━━━━━━━━\u001b[0m\u001b[37m\u001b[0m \u001b[1m80s\u001b[0m 85ms/step - binary_accuracy: 0.8944 - loss: 0.2661 - val_binary_accuracy: 0.8549 - val_loss: 0.3872\n",
      "Epoch 3/5\n",
      "\u001b[1m938/938\u001b[0m \u001b[32m━━━━━━━━━━━━━━━━━━━━\u001b[0m\u001b[37m\u001b[0m \u001b[1m79s\u001b[0m 84ms/step - binary_accuracy: 0.9329 - loss: 0.1793 - val_binary_accuracy: 0.8506 - val_loss: 0.4542\n",
      "Epoch 4/5\n",
      "\u001b[1m938/938\u001b[0m \u001b[32m━━━━━━━━━━━━━━━━━━━━\u001b[0m\u001b[37m\u001b[0m \u001b[1m79s\u001b[0m 84ms/step - binary_accuracy: 0.9488 - loss: 0.1382 - val_binary_accuracy: 0.8451 - val_loss: 0.5196\n",
      "Epoch 5/5\n",
      "\u001b[1m938/938\u001b[0m \u001b[32m━━━━━━━━━━━━━━━━━━━━\u001b[0m\u001b[37m\u001b[0m \u001b[1m76s\u001b[0m 81ms/step - binary_accuracy: 0.9580 - loss: 0.1170 - val_binary_accuracy: 0.8407 - val_loss: 0.5539\n"
     ]
    }
   ],
   "source": [
    "token_projection_dim = 64\n",
    "\n",
    "input_layer = Input(shape = [400,], dtype = 'int64')\n",
    "\n",
    "embedding_layer = Embedding(input_dim = 4000, input_length = 400, output_dim = token_projection_dim)(input_layer)\n",
    "\n",
    "MHA_layer = MultiHeadAttention(num_heads = 2, dropout = 0.1, key_dim = token_projection_dim)(embedding_layer, embedding_layer, embedding_layer)\n",
    "\n",
    "normalization_layer1 = LayerNormalization(epsilon = 1e-6)(embedding_layer + MHA_layer)\n",
    "\n",
    "dense_layer1 = Dense(token_projection_dim, activation = \"tanh\")(normalization_layer1)\n",
    "\n",
    "dense_layer2 = Dense(token_projection_dim, activation = \"tanh\")(dense_layer1)\n",
    "\n",
    "normalization_layer2 = LayerNormalization(epsilon = 1e-6)(normalization_layer1 + dense_layer2)\n",
    "\n",
    "flatten_layer = Flatten()(normalization_layer2)\n",
    "\n",
    "output_layer = Dense(1, activation = \"sigmoid\")(flatten_layer)\n",
    "\n",
    "model = Model(inputs = input_layer, outputs = output_layer)\n",
    "\n",
    "model.compile(optimizer = Adam(learning_rate = 0.001), loss = BinaryCrossentropy(), metrics = [BinaryAccuracy()])\n",
    "\n",
    "# Model fitting\n",
    "history = model.fit(X_train_padded, y_train, batch_size = 32, epochs = 5, validation_data = (X_val_padded, y_val))"
   ]
  },
  {
   "cell_type": "code",
   "execution_count": null,
   "metadata": {},
   "outputs": [],
   "source": []
  },
  {
   "cell_type": "code",
   "execution_count": null,
   "metadata": {},
   "outputs": [],
   "source": []
  },
  {
   "cell_type": "code",
   "execution_count": null,
   "metadata": {},
   "outputs": [],
   "source": []
  },
  {
   "cell_type": "code",
   "execution_count": null,
   "metadata": {},
   "outputs": [],
   "source": []
  },
  {
   "cell_type": "code",
   "execution_count": null,
   "metadata": {},
   "outputs": [],
   "source": []
  },
  {
   "cell_type": "code",
   "execution_count": null,
   "metadata": {},
   "outputs": [],
   "source": []
  }
 ],
 "metadata": {
  "kernelspec": {
   "display_name": "env",
   "language": "python",
   "name": "python3"
  },
  "language_info": {
   "codemirror_mode": {
    "name": "ipython",
    "version": 3
   },
   "file_extension": ".py",
   "mimetype": "text/x-python",
   "name": "python",
   "nbconvert_exporter": "python",
   "pygments_lexer": "ipython3",
   "version": "3.12.6"
  }
 },
 "nbformat": 4,
 "nbformat_minor": 2
}
