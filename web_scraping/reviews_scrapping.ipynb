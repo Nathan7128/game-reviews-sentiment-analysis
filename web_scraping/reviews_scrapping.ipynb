{
 "cells": [
  {
   "cell_type": "markdown",
   "metadata": {},
   "source": [
    "---\n",
    "# 1/ Finding the AppID of the selected game (The Crew 2 in this case)\n",
    "---"
   ]
  },
  {
   "cell_type": "markdown",
   "metadata": {},
   "source": [
    "To access the reviews page of a Steam game, we need the AppID of the game.  \n",
    "To achieve this, we will use Steam's game search page by entering the game name.  \n",
    "Then, we will display (on the Streamlit app) a list of the top 5 (or less/more) results from the search, allowing the user to select the corresponding game.  \n",
    "Based on this selection, we will scrape the AppID of the chosen game using the HTML content of Steam's game search page."
   ]
  },
  {
   "cell_type": "markdown",
   "metadata": {},
   "source": [
    "## Importing libraries"
   ]
  },
  {
   "cell_type": "code",
   "execution_count": 1,
   "metadata": {},
   "outputs": [],
   "source": [
    "import requests\n",
    "\n",
    "from bs4 import BeautifulSoup\n",
    "\n",
    "import urllib.parse"
   ]
  },
  {
   "cell_type": "code",
   "execution_count": 2,
   "metadata": {},
   "outputs": [
    {
     "name": "stdout",
     "output_type": "stream",
     "text": [
      "https://store.steampowered.com/search/?term=the%20crew%202\n"
     ]
    }
   ],
   "source": [
    "# This url corresponds to the game search page on Steam\n",
    "# It is necessary to transform the game name into URL format\n",
    "\n",
    "game_name = \"the crew 2\"\n",
    "search_page_url = \"https://store.steampowered.com/search/?term=\" + urllib.parse.quote(game_name)\n",
    "print(search_page_url)"
   ]
  },
  {
   "cell_type": "code",
   "execution_count": 3,
   "metadata": {},
   "outputs": [],
   "source": [
    "# Request the URL of the search page\n",
    "search_page_response = requests.get(search_page_url)"
   ]
  },
  {
   "cell_type": "code",
   "execution_count": 4,
   "metadata": {},
   "outputs": [],
   "source": [
    "# Retrieve the HTML content of the page\n",
    "search_page_soup = BeautifulSoup(search_page_response.text, 'lxml')"
   ]
  },
  {
   "cell_type": "markdown",
   "metadata": {},
   "source": [
    "Scrape the game names and their corresponding AppIDs"
   ]
  },
  {
   "cell_type": "code",
   "execution_count": 5,
   "metadata": {},
   "outputs": [
    {
     "name": "stdout",
     "output_type": "stream",
     "text": [
      "{'The Crew™ 2': '646910', 'The Crew 2 - Season Pass': '889890', 'The Crew 2 Demo': '1075340', 'The Crew Motorfest | Year 2 Pass': '3251420', 'The Crew 2 - Mazda RX8 Starter Pack': '2183882'}\n"
     ]
    }
   ],
   "source": [
    "game_names_list = []\n",
    "appIDs_list = []\n",
    "\n",
    "games_list_result = search_page_soup.find_all(\"a\", class_ = \"search_result_row ds_collapse_flag\", limit = 5)\n",
    "\n",
    "for game in games_list_result :\n",
    "    game_names_list.append(game.find(class_ = \"title\").get_text(strip = True))\n",
    "    appIDs_list.append(game.get(\"data-ds-appid\"))\n",
    "\n",
    "# Dictionary of game names and their corresponding AppIDs\n",
    "dict_game = dict(zip(game_names_list, appIDs_list))\n",
    "print(dict_game)"
   ]
  },
  {
   "cell_type": "code",
   "execution_count": 6,
   "metadata": {},
   "outputs": [
    {
     "name": "stdout",
     "output_type": "stream",
     "text": [
      "646910\n"
     ]
    }
   ],
   "source": [
    "# We select the game \"The Crew 2\"\n",
    "final_AppID = dict_game[game_names_list[0]]\n",
    "print(final_AppID)"
   ]
  },
  {
   "cell_type": "code",
   "execution_count": 7,
   "metadata": {},
   "outputs": [
    {
     "name": "stdout",
     "output_type": "stream",
     "text": [
      "https://steamcommunity.com/app/646910/reviews?l=english&\n"
     ]
    }
   ],
   "source": [
    "# We now have the URL of the Steam reviews page for the selected game\n",
    "reviews_page_url = \"https://steamcommunity.com/app/\" + final_AppID + \"/reviews?l=english&\"\n",
    "print(reviews_page_url)"
   ]
  },
  {
   "cell_type": "markdown",
   "metadata": {},
   "source": [
    "# 2/ Set the parameters for the reviews search"
   ]
  },
  {
   "cell_type": "markdown",
   "metadata": {},
   "source": [
    "To filter the reviews obtained, it is possible to set parameters as the review sorting method, the review language, and the maximum number of reviews to scrape.  \n",
    "In our case, the user will choose these parameters on the Streamlit app.  \n",
    "After setting these parameters, we will define the URL of the reviews page based on the selected filters.  \n",
    "To apply these filters, we will use BeautifulSoup once again..."
   ]
  },
  {
   "cell_type": "code",
   "execution_count": 8,
   "metadata": {},
   "outputs": [],
   "source": [
    "# Request the URL of the initial reviews page\n",
    "reviews_page_response = requests.get(reviews_page_url)"
   ]
  },
  {
   "cell_type": "code",
   "execution_count": 9,
   "metadata": {},
   "outputs": [],
   "source": [
    "# Retrieve the HTML content of the page\n",
    "reviews_page_soup = BeautifulSoup(reviews_page_response.text, 'lxml')"
   ]
  },
  {
   "cell_type": "markdown",
   "metadata": {},
   "source": [
    "## Set the review sorting method"
   ]
  },
  {
   "cell_type": "code",
   "execution_count": 10,
   "metadata": {},
   "outputs": [
    {
     "name": "stdout",
     "output_type": "stream",
     "text": [
      "{'Most Helpful(All Time)': 'l=english&p=1&browsefilter=toprated', 'Most Helpful(Today)': 'l=english&p=1&browsefilter=trendday', 'Most Helpful(Week)': 'l=english&p=1&browsefilter=trendweek', 'Most Helpful(Month)': 'l=english&p=1&browsefilter=trendmonth', 'Most Helpful(Three Months)': 'l=english&p=1&browsefilter=trendthreemonths', 'Most Helpful(Six Months)': 'l=english&p=1&browsefilter=trendsixmonths', 'Most Helpful(Year)': 'l=english&p=1&browsefilter=trendyear', 'Most Recent': 'l=english&p=1&browsefilter=mostrecent', 'Recently Updated': 'l=english&p=1&browsefilter=recentlyupdated', 'Funny': 'l=english&p=1&browsefilter=funny'}\n"
     ]
    }
   ],
   "source": [
    "# List containing the names of the sorting methods to be displayed on the Streamlit app\n",
    "sorting_methods_name_list = []\n",
    "\n",
    "# List containing the identifier of the sorting methods to be added to the final reviews page URL\n",
    "sorting_methods_identifier_list = []\n",
    "\n",
    "sorting_methods_result = reviews_page_soup.find(\"div\", class_ = \"filterselect_options shadow_content\").find_all(\"div\", class_ = \"option\")\n",
    "\n",
    "for sorting_method in sorting_methods_result :\n",
    "    sorting_methods_identifier_list.append(sorting_method.get(\"onclick\").replace(\"javascript:SelectContentFilter( '?\", \"\").replace(\"' );\", \"\"))\n",
    "    sorting_method_text = sorting_method.get_text(strip = True)\n",
    "    sorting_methods_name_list.append(sorting_method_text)\n",
    "\n",
    "# Dictionary of sorting methods names and their corresponding identifier\n",
    "dict_sorting_methods = dict(zip(sorting_methods_name_list, sorting_methods_identifier_list))\n",
    "print(dict_sorting_methods)"
   ]
  },
  {
   "cell_type": "code",
   "execution_count": 11,
   "metadata": {},
   "outputs": [
    {
     "name": "stdout",
     "output_type": "stream",
     "text": [
      "l=english&p=1&browsefilter=trendweek\n"
     ]
    }
   ],
   "source": [
    "# In our case, we choose the sorting method 'Most Helpful(Week)'\n",
    "sorting_method_identifier = dict_sorting_methods['Most Helpful(Week)']\n",
    "print(sorting_method_identifier)"
   ]
  },
  {
   "cell_type": "markdown",
   "metadata": {},
   "source": [
    "## Set the language for the reviews"
   ]
  },
  {
   "cell_type": "code",
   "execution_count": 12,
   "metadata": {},
   "outputs": [
    {
     "name": "stdout",
     "output_type": "stream",
     "text": [
      "{'All Languages': 'l=english&filterLanguage=all', 'Simplified Chinese': 'l=english&filterLanguage=schinese', 'Traditional Chinese': 'l=english&filterLanguage=tchinese', 'Japanese': 'l=english&filterLanguage=japanese', 'Korean': 'l=english&filterLanguage=koreana', 'Thai': 'l=english&filterLanguage=thai', 'Bulgarian': 'l=english&filterLanguage=bulgarian', 'Czech': 'l=english&filterLanguage=czech', 'Danish': 'l=english&filterLanguage=danish', 'German': 'l=english&filterLanguage=german', 'English': 'l=english&filterLanguage=english', 'Spanish - Spain': 'l=english&filterLanguage=spanish', 'Spanish - Latin America': 'l=english&filterLanguage=latam', 'Greek': 'l=english&filterLanguage=greek', 'French': 'l=english&filterLanguage=french', 'Italian': 'l=english&filterLanguage=italian', 'Indonesian': 'l=english&filterLanguage=indonesian', 'Hungarian': 'l=english&filterLanguage=hungarian', 'Dutch': 'l=english&filterLanguage=dutch', 'Norwegian': 'l=english&filterLanguage=norwegian', 'Polish': 'l=english&filterLanguage=polish', 'Portuguese - Portugal': 'l=english&filterLanguage=portuguese', 'Portuguese - Brazil': 'l=english&filterLanguage=brazilian', 'Romanian': 'l=english&filterLanguage=romanian', 'Russian': 'l=english&filterLanguage=russian', 'Finnish': 'l=english&filterLanguage=finnish', 'Swedish': 'l=english&filterLanguage=swedish', 'Turkish': 'l=english&filterLanguage=turkish', 'Vietnamese': 'l=english&filterLanguage=vietnamese', 'Ukrainian': 'l=english&filterLanguage=ukrainian'}\n"
     ]
    }
   ],
   "source": [
    "# List containing the names of the languages to be displayed on the Streamlit app\n",
    "languages_name_list = []\n",
    "\n",
    "# List containing the identifier of the languages to be added to the final reviews page URL\n",
    "languages_identifier_list = []\n",
    "\n",
    "languages_result = reviews_page_soup.find(\"div\", class_ = \"filterselect_options language shadow_content\").find_all(\"div\", class_ = \"option\")\n",
    "\n",
    "for language in languages_result :\n",
    "    languages_identifier_list.append(language.get(\"onclick\").replace(\"javascript:SelectLanguageFilter( '?\", \"\").replace(\"' );\", \"\"))\n",
    "    language_text = language.get_text(strip = True)\n",
    "    languages_name_list.append(language_text)\n",
    "\n",
    "# Dictionary of languages names and their corresponding identifier\n",
    "dict_languages = dict(zip(languages_name_list, languages_identifier_list))\n",
    "print(dict_languages)"
   ]
  },
  {
   "cell_type": "code",
   "execution_count": 13,
   "metadata": {},
   "outputs": [
    {
     "name": "stdout",
     "output_type": "stream",
     "text": [
      "l=english&filterLanguage=english\n"
     ]
    }
   ],
   "source": [
    "# In our case, we choose English language\n",
    "language_identifier = dict_languages['English']\n",
    "print(language_identifier)"
   ]
  },
  {
   "cell_type": "markdown",
   "metadata": {},
   "source": [
    "## Set the maximum number of reviews to scrape"
   ]
  },
  {
   "cell_type": "code",
   "execution_count": 14,
   "metadata": {},
   "outputs": [],
   "source": [
    "max_review = 100"
   ]
  },
  {
   "cell_type": "markdown",
   "metadata": {},
   "source": [
    "## Define the final URL with the selected filters"
   ]
  },
  {
   "cell_type": "code",
   "execution_count": 15,
   "metadata": {},
   "outputs": [
    {
     "name": "stdout",
     "output_type": "stream",
     "text": [
      "https://steamcommunity.com/app/646910/reviews?l=english&l=english&p=1&browsefilter=trendweek&l=english&filterLanguage=english\n"
     ]
    }
   ],
   "source": [
    "final_reviews_page_url = reviews_page_url + sorting_method_identifier + \"&\" + language_identifier\n",
    "print(final_reviews_page_url)"
   ]
  },
  {
   "cell_type": "markdown",
   "metadata": {},
   "source": [
    "By observing this page, we can see that not all reviews are in the HTML content...  \n",
    "This is because the page needs to be loaded by scrolling to the bottom.  \n",
    "To solve this, we will use Selenium library to scroll to the bottom of the page, ensuring that all reviews are loaded in the HTML content.  \n",
    "Selenium allows navigation on a webpage as a human would. For example, it enables clicking on an element, entering text into a search bar, locating an element using the HTML code, and more."
   ]
  },
  {
   "cell_type": "markdown",
   "metadata": {},
   "source": [
    "---\n",
    "# 3/ Scroll the page using Selenium\n",
    "---"
   ]
  },
  {
   "cell_type": "markdown",
   "metadata": {},
   "source": [
    "## Importing libraries"
   ]
  },
  {
   "cell_type": "code",
   "execution_count": 16,
   "metadata": {},
   "outputs": [],
   "source": [
    "from selenium import webdriver\n",
    "from selenium.webdriver.common.by import By\n",
    "from selenium.webdriver.support.ui import WebDriverWait\n",
    "from selenium.webdriver.support import expected_conditions as EC\n",
    "from selenium.webdriver.chrome.service import Service\n",
    "from selenium.webdriver.chrome.options import Options\n",
    "from selenium.webdriver.common.action_chains import ActionChains\n",
    "\n",
    "from webdriver_manager.chrome import ChromeDriverManager"
   ]
  },
  {
   "cell_type": "markdown",
   "metadata": {},
   "source": [
    "## Create and launch the Selenium driver"
   ]
  },
  {
   "cell_type": "code",
   "execution_count": 17,
   "metadata": {},
   "outputs": [],
   "source": [
    "# Set the options to launch the driver in the background\n",
    "chrome_options = Options()\n",
    "chrome_options.add_argument(\"--headless\")\n",
    "\n",
    "# Launch the headless driver\n",
    "driver = webdriver.Chrome(options = chrome_options, service=Service(ChromeDriverManager().install()))\n",
    "\n",
    "# Load the driver with graphical interface\n",
    "# driver = webdriver.Chrome(service=Service(ChromeDriverManager().install()))\n",
    "\n",
    "# Access the Steam reviews page\n",
    "driver.get(final_reviews_page_url)"
   ]
  },
  {
   "cell_type": "markdown",
   "metadata": {},
   "source": [
    "## Scrolling on the Reviews Page"
   ]
  },
  {
   "cell_type": "markdown",
   "metadata": {},
   "source": [
    "This step was not easy to code.  \n",
    "To simplify, we use a loop that, at each iteration, scrolls to the bottom of the loaded (HMTL) content.  \n",
    "The loop ends when the program detects that it has reached the bottom of the page.  \n",
    "Moreover, between each scroll, we add a wait time to allow the additional content to load : we wait until the \"action wait\" image disappears."
   ]
  },
  {
   "cell_type": "code",
   "execution_count": 18,
   "metadata": {},
   "outputs": [],
   "source": [
    "# Variable used to determine if the bottom of the page has been reached\n",
    "end = False\n",
    "\n",
    "# Element corresponding to the bottom of the currently loaded content\n",
    "getMoreContent = driver.find_element(by = By.ID, value = 'GetMoreContentBtn')\n",
    "\n",
    "# Element corresponding to the \"action wait\" image\n",
    "action_wait = driver.find_element(by = By.XPATH, value = '//*[@id=\"action_wait\"]/img')\n",
    "\n",
    "# Element corresponding to the bottom of the page\n",
    "noMoreContent = driver.find_element(by = By.XPATH, value = '//*[@id=\"NoMoreContent\"]/div[2]/a')\n",
    "\n",
    "# While we haven't reached the bottom of the page and the number of reviews is lower than the maximum review limit...\n",
    "while end == False and len(driver.find_elements(By.CLASS_NAME, 'apphub_CardTextContent')) < max_review :\n",
    "    # Check if the bottom-of-page element is present in the loaded content\n",
    "    try :\n",
    "        ActionChains(driver).scroll_to_element(noMoreContent).perform()\n",
    "        end = True\n",
    "\n",
    "    except :\n",
    "        # Scrolling to the bottom of the currently loaded content\n",
    "        ActionChains(driver).scroll_to_element(getMoreContent).perform()\n",
    "\n",
    "        # Waiting for the page to load\n",
    "        WebDriverWait(driver, 10).until(EC.invisibility_of_element(action_wait))"
   ]
  },
  {
   "cell_type": "markdown",
   "metadata": {},
   "source": [
    "## Scrape the reviews from the fully loaded page"
   ]
  },
  {
   "cell_type": "markdown",
   "metadata": {},
   "source": [
    "Once the Steam reviews page is fully loaded, we will scrape the reviews from the HTML content.  \n",
    "As before, we will use the BeautifulSoup library..."
   ]
  },
  {
   "cell_type": "code",
   "execution_count": 19,
   "metadata": {},
   "outputs": [],
   "source": [
    "# Extract the soup HTML content from the driver's page source\n",
    "reviews_loaded_page_soup = BeautifulSoup(driver.page_source, \"lxml\")"
   ]
  },
  {
   "cell_type": "code",
   "execution_count": 20,
   "metadata": {},
   "outputs": [],
   "source": [
    "# Retrieve all review details (date posted, review text, and additional information such as \"received_compensation\" or \"refunded\")\n",
    "reviews_content = reviews_loaded_page_soup.find_all(\"div\", class_ = \"apphub_CardTextContent\")"
   ]
  },
  {
   "cell_type": "code",
   "execution_count": 21,
   "metadata": {},
   "outputs": [
    {
     "name": "stdout",
     "output_type": "stream",
     "text": [
      "Number of reviews : 87\n"
     ]
    }
   ],
   "source": [
    "print(\"Number of reviews :\", len(reviews_content))"
   ]
  },
  {
   "cell_type": "markdown",
   "metadata": {},
   "source": [
    "Finally, we will extract only the review text from the review content."
   ]
  },
  {
   "cell_type": "code",
   "execution_count": 22,
   "metadata": {},
   "outputs": [
    {
     "name": "stdout",
     "output_type": "stream",
     "text": [
      "Titled: 'The crying dollar'\n",
      "Prologue/authors notes:\n",
      "I despise this game with amounts I foresaw humanly impossible. How can this game take the worst f*cking elements of every racing game ever and combine it into one?\n",
      "Graphics: Forza Horizon 2 was better then this ♥♥♥♥.\n",
      "Open world: Is exactly that, 'open', like a damned wasteland in Fallout\n",
      "AI: Rubberbands like it's some alternate NFS Underground era all over again.\n",
      "Quantity over quality: Of course we need 750+ items to grind for.\n",
      "Vehicles:\n",
      "-Airplanes: Them ballers pull 30G and could commit multiple mass crimes before getting destroyed.\n",
      "-Sport Cars: Semi-okay driver assisted land boats.\n",
      "-Dirt bikes: Can accelerate at an angle of 70 degrees?\n",
      "-Rally cars: Hopeless sand boats, the bigger the spoiler the harder the ai slaps. Steering is weird\n",
      "-Drift cars: Just as low grossing as Tokyo Drift in 2006, feels very forced.\n",
      "-Boat races: Handles better then most cars but seems to permanently suffer from 'permanent hurricane' syndrome, in which the speed varies wildly for jackshaft reasons.\n",
      "Upgrades: It doesn't matter which car you choose, it'll all result in the same 'end stage' performance levels. Of course you can't buy them and have to unlock them FOR EVERY SUCKING CAR.\n",
      "Currencies: 'Because we're tighter than bark on a tree'\n",
      "UI: Generic mobile game vibes from this one, nothing makes sense. Everything takes ages to load and there's no good menu's. God forbid you have to reset because the game suddenly decides to utilize it's 4th dimension physics again.\n",
      "If there's one positive to mention then it's the great story, all I vaguely remember is loading screens and 'HOLD ESC FOR 10 MINUTES' to continue. 10/10 would skip again. At least there's no bugs, they prefer to manifest in games that are worthwhile. (I'd be an honor if the player no clipped away while the game tries to save you by crashing, or, if a car gets stuck in a barrier, so you don't have to experience the steering any longer.'\n",
      "Conclusion:\n",
      "Please shut them servers down already, may god let the players see the light, let this abomination die.\n",
      "Yours sincerely,\n",
      "The slapper\n",
      "\n",
      "this game ♥♥♥♥♥♥ @ss, those graphics you see in vid is ♥♥♥♥♥♥ FAKE the whole game build like ♥♥♥♥♥♥ roblox looking ahh mfs\n",
      "\n",
      "GOD GMAE\n",
      "\n",
      "Highly recommended.\n",
      "\n",
      "good game i like it but the Ubisoft is bad as ♥♥♥♥\n",
      "\n",
      "i understand why it was £1 and ubisoft has failed\n",
      "\n",
      "Good some might say. JKJKJKJKJK KOQE PO LUJ\n",
      "\n",
      "After completing every achievement in The Crew 2, I can confidently say this game offers an exciting mix of exploration, racing and creativity. The massive open-world map, seamless vehicle transitions and variety of disciplines kept me hooked for hours. However, one issue stood out—car lights at night are too dim, making it hard to see the roads properly, which can be frustrating during night races.\n",
      "\n",
      "If you're looking for an arcadey racing experience with a large map and a variety of modes and vehicles, this is it. You can either grind if you wanna be competitive or just relax while driving around and completing some of the easier events. Is it worth the full price of 49,99€? Definitely not, but you should give it a shot while it's on a discount.\n",
      "7.5/10\n",
      "\n",
      "This game looks amazing on the outside.  Once you install it, there are many, MANY missing data elements.  Example:  Go into the menu to try to change anything.  Nothing is listed correctly.  It's all listed with some BS number that gives you ZERO information.   Google was no help in trying to solve the problem.\n",
      "\n",
      "Not good\n",
      "\n",
      "Wettest fart Ubisoft ever released...\n",
      "A shame, i loved the first one\n",
      "\n",
      "My Skoda Fabia 5J 1.2 70HP drives better than the first car u get in this game which is a Porsche... how's that possible?\n",
      "\n",
      "I really can't think for a reason to buy this game over any other racing game\n",
      "\n",
      "I love the crew 2\n",
      "\n",
      "W game\n",
      "\n",
      "jjnuhniuhbyuhbyubgyubyub nice game\n",
      "\n",
      "weqe2e2\n",
      "\n",
      "good openworld game\n",
      "\n",
      "The Crew 2. The game itself is really nice, The graphics are great but the physics could use an extra upgrade. I'd still recommend this since it is unique, has alot of cars to choose from. (Game Tester)\n",
      "\n",
      "Its a good game there is a huge map and plenty of cars, boats and airplanes\n",
      "\n",
      ".\n",
      "\n",
      "one of ubisoft great game very recommed for play\n",
      "\n",
      "good\n",
      "\n",
      "SSEX\n",
      "\n",
      "World's best open world game\n",
      "\n",
      "didnt work only abole to play on key vboard pretty bad\n",
      "\n",
      "good boy\n",
      "\n",
      ".,\n",
      "\n",
      "l\n",
      "\n",
      "nice game\n",
      "\n",
      "really good game :)\n",
      "\n",
      "The game won,t run even if I have requirements\n",
      "\n",
      "amazing so far just hard to grind\n",
      "\n",
      "yoiyoi\n",
      "\n",
      "Meh. Interface is so confusing.\n",
      "I don't know who thought trying to be original by confusing the crap outta people with an interface like that.\n",
      "No wonder Ubisoft is hitting the ditch now a days.\n",
      "\n",
      "top\n",
      "\n",
      "Jogo Muito Bão, a MacLarren do Mister Bean faz Vrum Vrum 9/10\n",
      "\n",
      "good\n",
      "\n",
      "glitched game and cant even change the res of game and also windows mode too please fix it otherwise game is great\n",
      "\n",
      "60 FPS cap, graphics that look like a mobile game and bad controls. Got it for 1€ and still can't say it's worth it.\n",
      "\n",
      "bagus cuy\n",
      "\n",
      "nothing\n",
      "\n",
      "tuff\n",
      "\n",
      "Игра норм, это лучше чем форза\n",
      "\n",
      "It's nice, you can ignore other type of races if you only like street races !\n",
      "\n",
      "ass\n",
      "\n",
      "plen\n",
      "\n",
      "Good\n",
      "\n",
      "Absolutely TERRIBLE. Its fun gameplay when it doesnt ctd or your wheel doesnt randomly disconnect. Not to mention the constant frame stutters that will make you question your setup. I got this game on a 95% sale and still regret buying it. Don't play this even if someone pays you to play it lmao. Most poorly optimised piece of ♥♥♥♥♥ Ive played in quite a while. Theres a reason this game has a dying player base and the company is desperately putting it on sale again and again for 5% of its actual price\n",
      "\n",
      "Good travelling game\n",
      "\n",
      "ye\n",
      "\n",
      "nice game, make me forgot about time\n",
      "\n",
      "gdrgdgt\n",
      "\n",
      "Mid as ♥♥♥♥ but still fun tho\n",
      "\n",
      "This game is ass, it look like ♥♥♥♥, and play like ♥♥♥♥. Ngl just play ♥♥♥♥♥♥♥ roblox\n",
      "\n",
      "♥♥♥♥♥♥\n",
      "\n",
      "\n",
      "\n",
      "games alright at best\n",
      "\n",
      "faa\n",
      "\n",
      "love the different styles of racing you can do\n",
      "\n",
      "very fun\n",
      "\n",
      "Nice game!\n",
      "\n",
      "Amazing variety of vehicles!\n",
      "\n",
      "I am an avid sim racer and this game is still by far better than Forza\n",
      "\n",
      "nice graphics & physics\n",
      "\n",
      "If NFS and forza had a baby this would be it\n",
      "\n",
      "juegardo\n",
      "\n",
      "its good\n",
      "\n",
      "crashes randomly, unable to play until this problem is fixed, worked fine on Playstation but i guess its worse on PC.\n",
      "\n",
      "Ubisoft sure does know how to take the fun out of every last joyful activity\n",
      "\n",
      "ita GUD\n",
      "\n",
      "Like a worse version of Forza Horizon. Feels like a mobile game -- specifically, Asphalt Legends.\n",
      "\n",
      "very nice game\n",
      "\n",
      "Not worth the 1$ I paid.\n",
      "\n",
      "just play it. much better than motorfest\n",
      "\n",
      "Bought this for 1$\n",
      "Obviously worth every penny, lambo goes vroom vroom\n",
      "\n",
      "good game\n",
      "\n",
      "Dont buy skibidi toilet bike please\n",
      "\n",
      "i cant play this game anymore because my ubisoft account has been hacked and this purchased based on ubisoft account not steam, the service team worst because no avaible live chat support\n",
      "Edited :\n",
      "Even take long to respond , my account was recovered by ubisoft customer service, thank you\n",
      "\n",
      "Good arcade racing game. Im a bit late, get motorsports instead.\n",
      "\n",
      "Bought it on huge discount, a fun game to play with friends, although wouldnt recommend it at full price as there is better games but overall pretty nice.\n",
      "\n",
      "great game worth playing for sure\n",
      "rating:10/10\n",
      "\n",
      "The map of this game wins it for me. Roadtrip online with friends is fun because of the map itself.\n",
      "\n",
      "I love crashing the cars for fun.  Serious driving is also fun.  I enjoy the interactive road maps.  Lets face it, I love it all.\n",
      "\n",
      "Yeah Ubisoft is pretty ♥♥♥♥. But that doesn't mean the games are complete ♥♥♥♥ too and especially not this one. I was expecting ordinary races through the city and I don't know where else, but I have a feeling that they hired directly some racers who know how it works (yes I know there is RedBull I played that game) because I didn't expect such an extreme in some races.\n",
      "\n",
      "Perfect combination of NFS and Forza, in my opinion crew 2 is even better than MotorFest as the Crew MotorFest tries too hard to be Forza while Crew 2 feels unique. Bought it for less than 1 USD so i say its worth it in everyway, i usually don't like Forza and play NFS titles but with the sh*t show that is NFS Unbound, Crew 2 filled the spot as the ultimate game for my arcade racing cravings, 250 hours well spent.\n",
      "\n"
     ]
    }
   ],
   "source": [
    "reviews_list = []\n",
    "\n",
    "for review in reviews_content :\n",
    "    # Remove the additional unnecessary information\n",
    "    for elt_a_suppr in review.find_all(['div'], class_=[\"date_posted\", \"received_compensation\", \"refunded\"]):\n",
    "        elt_a_suppr.decompose()\n",
    "    \n",
    "    # Extract the review text from the HTML content\n",
    "    review = review.get_text(strip=True, separator = \"\\n\")\n",
    "\n",
    "    reviews_list.append(review)\n",
    "    print(review, end = \"\\n\\n\")"
   ]
  },
  {
   "cell_type": "code",
   "execution_count": null,
   "metadata": {},
   "outputs": [],
   "source": []
  },
  {
   "cell_type": "code",
   "execution_count": null,
   "metadata": {},
   "outputs": [],
   "source": []
  },
  {
   "cell_type": "code",
   "execution_count": null,
   "metadata": {},
   "outputs": [],
   "source": []
  },
  {
   "cell_type": "code",
   "execution_count": null,
   "metadata": {},
   "outputs": [],
   "source": []
  },
  {
   "cell_type": "code",
   "execution_count": null,
   "metadata": {},
   "outputs": [],
   "source": []
  }
 ],
 "metadata": {
  "kernelspec": {
   "display_name": "env",
   "language": "python",
   "name": "python3"
  },
  "language_info": {
   "codemirror_mode": {
    "name": "ipython",
    "version": 3
   },
   "file_extension": ".py",
   "mimetype": "text/x-python",
   "name": "python",
   "nbconvert_exporter": "python",
   "pygments_lexer": "ipython3",
   "version": "3.12.6"
  }
 },
 "nbformat": 4,
 "nbformat_minor": 2
}
